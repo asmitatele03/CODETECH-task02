{
  "nbformat": 4,
  "nbformat_minor": 0,
  "metadata": {
    "colab": {
      "provenance": [],
      "authorship_tag": "ABX9TyPWCzcGcmvNmxYKTi7pgbTj",
      "include_colab_link": true
    },
    "kernelspec": {
      "name": "python3",
      "display_name": "Python 3"
    },
    "language_info": {
      "name": "python"
    }
  },
  "cells": [
    {
      "cell_type": "markdown",
      "metadata": {
        "id": "view-in-github",
        "colab_type": "text"
      },
      "source": [
        "<a href=\"https://colab.research.google.com/github/asmitatele03/CODETECH-task02/blob/main/task02.ipynb\" target=\"_parent\"><img src=\"https://colab.research.google.com/assets/colab-badge.svg\" alt=\"Open In Colab\"/></a>"
      ]
    },
    {
      "cell_type": "markdown",
      "source": [
        "Import Libraries"
      ],
      "metadata": {
        "id": "ktcPV56OfgxY"
      }
    },
    {
      "cell_type": "code",
      "source": [
        "import pandas as pd\n",
        "import numpy as np\n",
        "import matplotlib.pyplot as plt\n",
        "import seaborn as sns\n",
        "from textblob import TextBlob\n",
        "import re\n",
        "import nltk\n",
        "from nltk.corpus import stopwords\n"
      ],
      "metadata": {
        "id": "4Ew_EmnVfhfM"
      },
      "execution_count": 57,
      "outputs": []
    },
    {
      "cell_type": "markdown",
      "source": [
        "Load the Data"
      ],
      "metadata": {
        "id": "sVDRBLMdfpA2"
      }
    },
    {
      "cell_type": "code",
      "source": [
        "file_path = '/content/Sentiment.csv'\n",
        "df = pd.read_csv(file_path)"
      ],
      "metadata": {
        "id": "bRIx-XbnfopM"
      },
      "execution_count": 58,
      "outputs": []
    },
    {
      "cell_type": "code",
      "source": [
        "print(df.head())"
      ],
      "metadata": {
        "colab": {
          "base_uri": "https://localhost:8080/"
        },
        "id": "QmeK0WtLflRy",
        "outputId": "6d0bbccd-52c2-4b9a-f6cc-3addc4b82a97"
      },
      "execution_count": 59,
      "outputs": [
        {
          "output_type": "stream",
          "name": "stdout",
          "text": [
            "   id               candidate  candidate_confidence relevant_yn  \\\n",
            "0   1  No candidate mentioned                   1.0         yes   \n",
            "1   2            Scott Walker                   1.0         yes   \n",
            "2   3  No candidate mentioned                   1.0         yes   \n",
            "3   4  No candidate mentioned                   1.0         yes   \n",
            "4   5            Donald Trump                   1.0         yes   \n",
            "\n",
            "   relevant_yn_confidence sentiment  sentiment_confidence     subject_matter  \\\n",
            "0                     1.0   Neutral                0.6578  None of the above   \n",
            "1                     1.0  Positive                0.6333  None of the above   \n",
            "2                     1.0   Neutral                0.6629  None of the above   \n",
            "3                     1.0  Positive                1.0000  None of the above   \n",
            "4                     1.0  Positive                0.7045  None of the above   \n",
            "\n",
            "   subject_matter_confidence candidate_gold  ... relevant_yn_gold  \\\n",
            "0                     1.0000            NaN  ...              NaN   \n",
            "1                     1.0000            NaN  ...              NaN   \n",
            "2                     0.6629            NaN  ...              NaN   \n",
            "3                     0.7039            NaN  ...              NaN   \n",
            "4                     1.0000            NaN  ...              NaN   \n",
            "\n",
            "  retweet_count  sentiment_gold subject_matter_gold  \\\n",
            "0             5             NaN                 NaN   \n",
            "1            26             NaN                 NaN   \n",
            "2            27             NaN                 NaN   \n",
            "3           138             NaN                 NaN   \n",
            "4           156             NaN                 NaN   \n",
            "\n",
            "                                                                                                                                           text  \\\n",
            "0                                    RT @NancyLeeGrahn: How did everyone feel about the Climate Change question last night? Exactly. #GOPDebate   \n",
            "1  RT @ScottWalker: Didn't catch the full #GOPdebate last night. Here are some of Scott's best lines in 90 seconds. #Walker16 http://t.co/ZSfF…   \n",
            "2                                                          RT @TJMShow: No mention of Tamir Rice and the #GOPDebate was held in Cleveland? Wow.   \n",
            "3  RT @RobGeorge: That Carly Fiorina is trending -- hours after HER debate -- above any of the men in just-completed #GOPdebate says she's on …   \n",
            "4  RT @DanScavino: #GOPDebate w/ @realDonaldTrump delivered the highest ratings in the history of presidential debates. #Trump2016 http://t.co…   \n",
            "\n",
            "  tweet_coord              tweet_created            tweet_id  tweet_location  \\\n",
            "0         NaN  2015-08-07 09:54:46 -0700  629697200650592256             NaN   \n",
            "1         NaN  2015-08-07 09:54:46 -0700  629697199560069120             NaN   \n",
            "2         NaN  2015-08-07 09:54:46 -0700  629697199312482304             NaN   \n",
            "3         NaN  2015-08-07 09:54:45 -0700  629697197118861312           Texas   \n",
            "4         NaN  2015-08-07 09:54:45 -0700  629697196967903232             NaN   \n",
            "\n",
            "                user_timezone  \n",
            "0                       Quito  \n",
            "1                         NaN  \n",
            "2                         NaN  \n",
            "3  Central Time (US & Canada)  \n",
            "4                     Arizona  \n",
            "\n",
            "[5 rows x 21 columns]\n"
          ]
        }
      ]
    },
    {
      "cell_type": "markdown",
      "source": [
        "Data Preprocessing"
      ],
      "metadata": {
        "id": "wymUshuUgKXM"
      }
    },
    {
      "cell_type": "code",
      "source": [
        "# Function to clean the text data\n",
        "def clean_text(text):\n",
        "    text = re.sub(r'@[A-Za-z0-9]+', '', text)  # Remove @mentions\n",
        "    text = re.sub(r'#', '', text)  # Remove the '#' symbol\n",
        "    text = re.sub(r'RT[\\s]+', '', text)  # Remove RT\n",
        "    text = re.sub(r'https?:\\/\\/\\S+', '', text)  # Remove hyperlinks\n",
        "    text = re.sub(r'\\W', ' ', text)  # Remove special characters\n",
        "    text = re.sub(r'\\s+', ' ', text)  # Remove extra spaces\n",
        "    return text"
      ],
      "metadata": {
        "id": "23rDGb2lgGSF"
      },
      "execution_count": 60,
      "outputs": []
    },
    {
      "cell_type": "code",
      "source": [
        "df['cleaned_text'] = df['text'].apply(clean_text)"
      ],
      "metadata": {
        "id": "9e7JTnTtgP2z"
      },
      "execution_count": 61,
      "outputs": []
    },
    {
      "cell_type": "markdown",
      "source": [
        "Sentiment Analysis"
      ],
      "metadata": {
        "id": "wdUMjkrsgW8g"
      }
    },
    {
      "cell_type": "code",
      "source": [
        "# Function to get the sentiment score\n",
        "def get_sentiment(text):\n",
        "    analysis = TextBlob(text)\n",
        "    if analysis.sentiment.polarity > 0:\n",
        "        return 'Positive'\n",
        "    elif analysis.sentiment.polarity == 0:\n",
        "        return 'Neutral'\n",
        "    else:\n",
        "        return 'Negative'\n"
      ],
      "metadata": {
        "id": "daGTbuxcgSpa"
      },
      "execution_count": 62,
      "outputs": []
    },
    {
      "cell_type": "code",
      "source": [
        "df['Sentiment'] = df['cleaned_text'].apply(get_sentiment)\n"
      ],
      "metadata": {
        "id": "5OSn0eU3gbWU"
      },
      "execution_count": 63,
      "outputs": []
    },
    {
      "cell_type": "markdown",
      "source": [
        "Visualize Sentiment Distribution"
      ],
      "metadata": {
        "id": "V_v9lzd8gjlO"
      }
    },
    {
      "cell_type": "code",
      "source": [
        "sns.countplot(x='Sentiment', data=df)\n",
        "plt.title('Sentiment Analysis')\n",
        "plt.show()"
      ],
      "metadata": {
        "colab": {
          "base_uri": "https://localhost:8080/",
          "height": 472
        },
        "id": "jvdSyV9Ngd1A",
        "outputId": "6c46c81d-f0fd-4c55-87c4-747c0d8420e0"
      },
      "execution_count": 64,
      "outputs": [
        {
          "output_type": "display_data",
          "data": {
            "text/plain": [
              "<Figure size 640x480 with 1 Axes>"
            ],
            "image/png": "[encoded data removed]"
          },
          "metadata": {}
        }
      ]
    },
    {
      "cell_type": "code",
      "source": [],
      "metadata": {
        "id": "Y-9_Zc9-gvZo"
      },
      "execution_count": null,
      "outputs": []
    }
  ]
}